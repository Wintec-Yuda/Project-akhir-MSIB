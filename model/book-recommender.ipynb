{
 "cells": [
  {
   "cell_type": "code",
   "execution_count": 1,
   "id": "9a4a47ec",
   "metadata": {
    "_cell_guid": "b1076dfc-b9ad-4769-8c92-a6c4dae69d19",
    "_uuid": "8f2839f25d086af736a60e9eeb907d3b93b6e0e5",
    "execution": {
     "iopub.execute_input": "2022-10-15T14:32:22.449553Z",
     "iopub.status.busy": "2022-10-15T14:32:22.449189Z",
     "iopub.status.idle": "2022-10-15T14:32:22.466669Z",
     "shell.execute_reply": "2022-10-15T14:32:22.465762Z"
    },
    "papermill": {
     "duration": 0.029989,
     "end_time": "2022-10-15T14:32:22.469577",
     "exception": false,
     "start_time": "2022-10-15T14:32:22.439588",
     "status": "completed"
    },
    "tags": []
   },
   "outputs": [
    {
     "name": "stdout",
     "output_type": "stream",
     "text": [
      "/kaggle/input/book-recommendation-dataset/Ratings.csv\n",
      "/kaggle/input/book-recommendation-dataset/Users.csv\n",
      "/kaggle/input/book-recommendation-dataset/Books.csv\n"
     ]
    }
   ],
   "source": [
    "# # This Python 3 environment comes with many helpful analytics libraries installed\n",
    "# # It is defined by the kaggle/python Docker image: https://github.com/kaggle/docker-python\n",
    "# # For example, here's several helpful packages to load\n",
    "\n",
    "# import numpy as np # linear algebra\n",
    "# import pandas as pd # data processing, CSV file I/O (e.g. pd.read_csv)\n",
    "\n",
    "# # Input data files are available in the read-only \"../input/\" directory\n",
    "# # For example, running this (by clicking run or pressing Shift+Enter) will list all files under the input directory\n",
    "\n",
    "# import os\n",
    "# for dirname, _, filenames in os.walk('/kaggle/input'):\n",
    "#     for filename in filenames:\n",
    "#         print(os.path.join(dirname, filename))\n",
    "\n",
    "# # You can write up to 20GB to the current directory (/kaggle/working/) that gets preserved as output when you create a version using \"Save & Run All\" \n",
    "# # You can also write temporary files to /kaggle/temp/, but they won't be saved outside of the current session"
   ]
  },
  {
   "cell_type": "markdown",
   "id": "3e1c25de",
   "metadata": {
    "papermill": {
     "duration": 0.007107,
     "end_time": "2022-10-15T14:32:22.485196",
     "exception": false,
     "start_time": "2022-10-15T14:32:22.478089",
     "status": "completed"
    },
    "tags": []
   },
   "source": [
    "# **LOAD & CHECK DATA**"
   ]
  },
  {
   "cell_type": "code",
   "execution_count": 1,
   "id": "472c9618",
   "metadata": {
    "execution": {
     "iopub.execute_input": "2022-10-15T14:32:22.500678Z",
     "iopub.status.busy": "2022-10-15T14:32:22.500381Z",
     "iopub.status.idle": "2022-10-15T14:32:24.254722Z",
     "shell.execute_reply": "2022-10-15T14:32:24.253021Z"
    },
    "papermill": {
     "duration": 1.764975,
     "end_time": "2022-10-15T14:32:24.257342",
     "exception": false,
     "start_time": "2022-10-15T14:32:22.492367",
     "status": "completed"
    },
    "tags": []
   },
   "outputs": [],
   "source": [
    "import warnings\n",
    "warnings.filterwarnings(\"ignore\")\n",
    "import pandas as pd\n",
    "import numpy as np\n",
    "import matplotlib.pyplot as plt\n",
    "from sklearn.metrics.pairwise import cosine_similarity\n",
    "import re\n",
    "from PIL import Image\n",
    "import requests\n",
    "import random\n",
    "from sklearn.feature_extraction.text import CountVectorizer\n",
    "import nltk\n",
    "from nltk.corpus import stopwords"
   ]
  },
  {
   "cell_type": "code",
   "execution_count": 2,
   "id": "1dc19849",
   "metadata": {
    "execution": {
     "iopub.execute_input": "2022-10-15T14:32:24.273443Z",
     "iopub.status.busy": "2022-10-15T14:32:24.273075Z",
     "iopub.status.idle": "2022-10-15T14:32:26.637481Z",
     "shell.execute_reply": "2022-10-15T14:32:26.636238Z"
    },
    "papermill": {
     "duration": 2.37554,
     "end_time": "2022-10-15T14:32:26.640146",
     "exception": false,
     "start_time": "2022-10-15T14:32:24.264606",
     "status": "completed"
    },
    "tags": []
   },
   "outputs": [
    {
     "data": {
      "text/html": [
       "<div>\n",
       "<style scoped>\n",
       "    .dataframe tbody tr th:only-of-type {\n",
       "        vertical-align: middle;\n",
       "    }\n",
       "\n",
       "    .dataframe tbody tr th {\n",
       "        vertical-align: top;\n",
       "    }\n",
       "\n",
       "    .dataframe thead th {\n",
       "        text-align: right;\n",
       "    }\n",
       "</style>\n",
       "<table border=\"1\" class=\"dataframe\">\n",
       "  <thead>\n",
       "    <tr style=\"text-align: right;\">\n",
       "      <th></th>\n",
       "      <th>ISBN</th>\n",
       "      <th>Book-Title</th>\n",
       "      <th>Book-Author</th>\n",
       "      <th>Year-Of-Publication</th>\n",
       "      <th>Publisher</th>\n",
       "      <th>Image-URL-S</th>\n",
       "      <th>Image-URL-M</th>\n",
       "      <th>Image-URL-L</th>\n",
       "    </tr>\n",
       "  </thead>\n",
       "  <tbody>\n",
       "    <tr>\n",
       "      <th>0</th>\n",
       "      <td>0195153448</td>\n",
       "      <td>Classical Mythology</td>\n",
       "      <td>Mark P. O. Morford</td>\n",
       "      <td>2002</td>\n",
       "      <td>Oxford University Press</td>\n",
       "      <td>http://images.amazon.com/images/P/0195153448.0...</td>\n",
       "      <td>http://images.amazon.com/images/P/0195153448.0...</td>\n",
       "      <td>http://images.amazon.com/images/P/0195153448.0...</td>\n",
       "    </tr>\n",
       "    <tr>\n",
       "      <th>1</th>\n",
       "      <td>0002005018</td>\n",
       "      <td>Clara Callan</td>\n",
       "      <td>Richard Bruce Wright</td>\n",
       "      <td>2001</td>\n",
       "      <td>HarperFlamingo Canada</td>\n",
       "      <td>http://images.amazon.com/images/P/0002005018.0...</td>\n",
       "      <td>http://images.amazon.com/images/P/0002005018.0...</td>\n",
       "      <td>http://images.amazon.com/images/P/0002005018.0...</td>\n",
       "    </tr>\n",
       "    <tr>\n",
       "      <th>2</th>\n",
       "      <td>0060973129</td>\n",
       "      <td>Decision in Normandy</td>\n",
       "      <td>Carlo D'Este</td>\n",
       "      <td>1991</td>\n",
       "      <td>HarperPerennial</td>\n",
       "      <td>http://images.amazon.com/images/P/0060973129.0...</td>\n",
       "      <td>http://images.amazon.com/images/P/0060973129.0...</td>\n",
       "      <td>http://images.amazon.com/images/P/0060973129.0...</td>\n",
       "    </tr>\n",
       "  </tbody>\n",
       "</table>\n",
       "</div>"
      ],
      "text/plain": [
       "         ISBN            Book-Title           Book-Author Year-Of-Publication  \\\n",
       "0  0195153448   Classical Mythology    Mark P. O. Morford                2002   \n",
       "1  0002005018          Clara Callan  Richard Bruce Wright                2001   \n",
       "2  0060973129  Decision in Normandy          Carlo D'Este                1991   \n",
       "\n",
       "                 Publisher                                        Image-URL-S  \\\n",
       "0  Oxford University Press  http://images.amazon.com/images/P/0195153448.0...   \n",
       "1    HarperFlamingo Canada  http://images.amazon.com/images/P/0002005018.0...   \n",
       "2          HarperPerennial  http://images.amazon.com/images/P/0060973129.0...   \n",
       "\n",
       "                                         Image-URL-M  \\\n",
       "0  http://images.amazon.com/images/P/0195153448.0...   \n",
       "1  http://images.amazon.com/images/P/0002005018.0...   \n",
       "2  http://images.amazon.com/images/P/0060973129.0...   \n",
       "\n",
       "                                         Image-URL-L  \n",
       "0  http://images.amazon.com/images/P/0195153448.0...  \n",
       "1  http://images.amazon.com/images/P/0002005018.0...  \n",
       "2  http://images.amazon.com/images/P/0060973129.0...  "
      ]
     },
     "execution_count": 2,
     "metadata": {},
     "output_type": "execute_result"
    }
   ],
   "source": [
    "books=pd.read_csv(\"Books.csv\")\n",
    "books.head(3)"
   ]
  },
  {
   "cell_type": "code",
   "execution_count": 3,
   "id": "9f622120",
   "metadata": {
    "execution": {
     "iopub.execute_input": "2022-10-15T14:32:26.656301Z",
     "iopub.status.busy": "2022-10-15T14:32:26.655272Z",
     "iopub.status.idle": "2022-10-15T14:32:27.466248Z",
     "shell.execute_reply": "2022-10-15T14:32:27.464784Z"
    },
    "papermill": {
     "duration": 0.821554,
     "end_time": "2022-10-15T14:32:27.468777",
     "exception": false,
     "start_time": "2022-10-15T14:32:26.647223",
     "status": "completed"
    },
    "tags": []
   },
   "outputs": [
    {
     "data": {
      "text/html": [
       "<div>\n",
       "<style scoped>\n",
       "    .dataframe tbody tr th:only-of-type {\n",
       "        vertical-align: middle;\n",
       "    }\n",
       "\n",
       "    .dataframe tbody tr th {\n",
       "        vertical-align: top;\n",
       "    }\n",
       "\n",
       "    .dataframe thead th {\n",
       "        text-align: right;\n",
       "    }\n",
       "</style>\n",
       "<table border=\"1\" class=\"dataframe\">\n",
       "  <thead>\n",
       "    <tr style=\"text-align: right;\">\n",
       "      <th></th>\n",
       "      <th>User-ID</th>\n",
       "      <th>ISBN</th>\n",
       "      <th>Book-Rating</th>\n",
       "    </tr>\n",
       "  </thead>\n",
       "  <tbody>\n",
       "    <tr>\n",
       "      <th>0</th>\n",
       "      <td>276725</td>\n",
       "      <td>034545104X</td>\n",
       "      <td>0</td>\n",
       "    </tr>\n",
       "    <tr>\n",
       "      <th>1</th>\n",
       "      <td>276726</td>\n",
       "      <td>0155061224</td>\n",
       "      <td>5</td>\n",
       "    </tr>\n",
       "    <tr>\n",
       "      <th>2</th>\n",
       "      <td>276727</td>\n",
       "      <td>0446520802</td>\n",
       "      <td>0</td>\n",
       "    </tr>\n",
       "  </tbody>\n",
       "</table>\n",
       "</div>"
      ],
      "text/plain": [
       "   User-ID        ISBN  Book-Rating\n",
       "0   276725  034545104X            0\n",
       "1   276726  0155061224            5\n",
       "2   276727  0446520802            0"
      ]
     },
     "execution_count": 3,
     "metadata": {},
     "output_type": "execute_result"
    }
   ],
   "source": [
    "ratings=pd.read_csv(\"Ratings.csv\")\n",
    "ratings.head(3)"
   ]
  },
  {
   "cell_type": "code",
   "execution_count": 4,
   "id": "d0d39a23",
   "metadata": {
    "execution": {
     "iopub.execute_input": "2022-10-15T14:32:27.486286Z",
     "iopub.status.busy": "2022-10-15T14:32:27.485936Z",
     "iopub.status.idle": "2022-10-15T14:32:27.806719Z",
     "shell.execute_reply": "2022-10-15T14:32:27.805895Z"
    },
    "papermill": {
     "duration": 0.331301,
     "end_time": "2022-10-15T14:32:27.808531",
     "exception": false,
     "start_time": "2022-10-15T14:32:27.477230",
     "status": "completed"
    },
    "tags": []
   },
   "outputs": [
    {
     "data": {
      "text/html": [
       "<div>\n",
       "<style scoped>\n",
       "    .dataframe tbody tr th:only-of-type {\n",
       "        vertical-align: middle;\n",
       "    }\n",
       "\n",
       "    .dataframe tbody tr th {\n",
       "        vertical-align: top;\n",
       "    }\n",
       "\n",
       "    .dataframe thead th {\n",
       "        text-align: right;\n",
       "    }\n",
       "</style>\n",
       "<table border=\"1\" class=\"dataframe\">\n",
       "  <thead>\n",
       "    <tr style=\"text-align: right;\">\n",
       "      <th></th>\n",
       "      <th>User-ID</th>\n",
       "      <th>Location</th>\n",
       "      <th>Age</th>\n",
       "    </tr>\n",
       "  </thead>\n",
       "  <tbody>\n",
       "    <tr>\n",
       "      <th>0</th>\n",
       "      <td>1</td>\n",
       "      <td>nyc, new york, usa</td>\n",
       "      <td>NaN</td>\n",
       "    </tr>\n",
       "    <tr>\n",
       "      <th>1</th>\n",
       "      <td>2</td>\n",
       "      <td>stockton, california, usa</td>\n",
       "      <td>18.0</td>\n",
       "    </tr>\n",
       "    <tr>\n",
       "      <th>2</th>\n",
       "      <td>3</td>\n",
       "      <td>moscow, yukon territory, russia</td>\n",
       "      <td>NaN</td>\n",
       "    </tr>\n",
       "  </tbody>\n",
       "</table>\n",
       "</div>"
      ],
      "text/plain": [
       "   User-ID                         Location   Age\n",
       "0        1               nyc, new york, usa   NaN\n",
       "1        2        stockton, california, usa  18.0\n",
       "2        3  moscow, yukon territory, russia   NaN"
      ]
     },
     "execution_count": 4,
     "metadata": {},
     "output_type": "execute_result"
    }
   ],
   "source": [
    "users=pd.read_csv(\"Users.csv\")\n",
    "users.head(3)"
   ]
  },
  {
   "cell_type": "code",
   "execution_count": 5,
   "id": "4a65d1ec",
   "metadata": {
    "execution": {
     "iopub.execute_input": "2022-10-15T14:32:27.825144Z",
     "iopub.status.busy": "2022-10-15T14:32:27.824091Z",
     "iopub.status.idle": "2022-10-15T14:32:27.830668Z",
     "shell.execute_reply": "2022-10-15T14:32:27.829547Z"
    },
    "papermill": {
     "duration": 0.017349,
     "end_time": "2022-10-15T14:32:27.833035",
     "exception": false,
     "start_time": "2022-10-15T14:32:27.815686",
     "status": "completed"
    },
    "tags": []
   },
   "outputs": [
    {
     "name": "stdout",
     "output_type": "stream",
     "text": [
      "Books Shape:  (271360, 8)\n",
      "Ratings Shape:  (1149780, 3)\n",
      "Users Shape:  (278858, 3)\n"
     ]
    }
   ],
   "source": [
    "print(\"Books Shape: \" ,books.shape )\n",
    "print(\"Ratings Shape: \" ,ratings.shape )\n",
    "print(\"Users Shape: \" ,users.shape )"
   ]
  },
  {
   "cell_type": "code",
   "execution_count": 6,
   "id": "aca36aad",
   "metadata": {
    "execution": {
     "iopub.execute_input": "2022-10-15T14:32:27.848847Z",
     "iopub.status.busy": "2022-10-15T14:32:27.848469Z",
     "iopub.status.idle": "2022-10-15T14:32:28.006742Z",
     "shell.execute_reply": "2022-10-15T14:32:28.005433Z"
    },
    "papermill": {
     "duration": 0.168639,
     "end_time": "2022-10-15T14:32:28.008834",
     "exception": false,
     "start_time": "2022-10-15T14:32:27.840195",
     "status": "completed"
    },
    "tags": []
   },
   "outputs": [
    {
     "name": "stdout",
     "output_type": "stream",
     "text": [
      "Any null values in Books:\n",
      " ISBN                   0\n",
      "Book-Title             0\n",
      "Book-Author            1\n",
      "Year-Of-Publication    0\n",
      "Publisher              2\n",
      "Image-URL-S            0\n",
      "Image-URL-M            0\n",
      "Image-URL-L            3\n",
      "dtype: int64\n",
      "Any null values in Ratings:\n",
      "  User-ID        0\n",
      "ISBN           0\n",
      "Book-Rating    0\n",
      "dtype: int64\n",
      "Any null values in Users:\n",
      " User-ID          0\n",
      "Location         0\n",
      "Age         110762\n",
      "dtype: int64\n"
     ]
    }
   ],
   "source": [
    "print(\"Any null values in Books:\\n\" ,books.isnull().sum())\n",
    "print(\"Any null values in Ratings:\\n \",ratings.isnull().sum())\n",
    "print(\"Any null values in Users:\\n\",users.isnull().sum())"
   ]
  },
  {
   "cell_type": "markdown",
   "id": "4d62c02f",
   "metadata": {
    "papermill": {
     "duration": 0.006923,
     "end_time": "2022-10-15T14:32:28.023027",
     "exception": false,
     "start_time": "2022-10-15T14:32:28.016104",
     "status": "completed"
    },
    "tags": []
   },
   "source": [
    "# **PREPROCESSING**"
   ]
  },
  {
   "cell_type": "code",
   "execution_count": 7,
   "id": "0b0c23a2",
   "metadata": {
    "execution": {
     "iopub.execute_input": "2022-10-15T14:32:28.039361Z",
     "iopub.status.busy": "2022-10-15T14:32:28.039047Z",
     "iopub.status.idle": "2022-10-15T14:32:28.811907Z",
     "shell.execute_reply": "2022-10-15T14:32:28.810409Z"
    },
    "papermill": {
     "duration": 0.783268,
     "end_time": "2022-10-15T14:32:28.813675",
     "exception": false,
     "start_time": "2022-10-15T14:32:28.030407",
     "status": "completed"
    },
    "tags": []
   },
   "outputs": [
    {
     "data": {
      "text/html": [
       "<div>\n",
       "<style scoped>\n",
       "    .dataframe tbody tr th:only-of-type {\n",
       "        vertical-align: middle;\n",
       "    }\n",
       "\n",
       "    .dataframe tbody tr th {\n",
       "        vertical-align: top;\n",
       "    }\n",
       "\n",
       "    .dataframe thead th {\n",
       "        text-align: right;\n",
       "    }\n",
       "</style>\n",
       "<table border=\"1\" class=\"dataframe\">\n",
       "  <thead>\n",
       "    <tr style=\"text-align: right;\">\n",
       "      <th></th>\n",
       "      <th>ISBN</th>\n",
       "      <th>Book-Title</th>\n",
       "      <th>Book-Author</th>\n",
       "      <th>Year-Of-Publication</th>\n",
       "      <th>Publisher</th>\n",
       "      <th>Image-URL-S</th>\n",
       "      <th>Image-URL-M</th>\n",
       "      <th>Image-URL-L</th>\n",
       "      <th>User-ID</th>\n",
       "      <th>Book-Rating</th>\n",
       "    </tr>\n",
       "  </thead>\n",
       "  <tbody>\n",
       "    <tr>\n",
       "      <th>0</th>\n",
       "      <td>0195153448</td>\n",
       "      <td>Classical Mythology</td>\n",
       "      <td>Mark P. O. Morford</td>\n",
       "      <td>2002</td>\n",
       "      <td>Oxford University Press</td>\n",
       "      <td>http://images.amazon.com/images/P/0195153448.0...</td>\n",
       "      <td>http://images.amazon.com/images/P/0195153448.0...</td>\n",
       "      <td>http://images.amazon.com/images/P/0195153448.0...</td>\n",
       "      <td>2</td>\n",
       "      <td>0</td>\n",
       "    </tr>\n",
       "    <tr>\n",
       "      <th>1</th>\n",
       "      <td>0002005018</td>\n",
       "      <td>Clara Callan</td>\n",
       "      <td>Richard Bruce Wright</td>\n",
       "      <td>2001</td>\n",
       "      <td>HarperFlamingo Canada</td>\n",
       "      <td>http://images.amazon.com/images/P/0002005018.0...</td>\n",
       "      <td>http://images.amazon.com/images/P/0002005018.0...</td>\n",
       "      <td>http://images.amazon.com/images/P/0002005018.0...</td>\n",
       "      <td>8</td>\n",
       "      <td>5</td>\n",
       "    </tr>\n",
       "    <tr>\n",
       "      <th>2</th>\n",
       "      <td>0002005018</td>\n",
       "      <td>Clara Callan</td>\n",
       "      <td>Richard Bruce Wright</td>\n",
       "      <td>2001</td>\n",
       "      <td>HarperFlamingo Canada</td>\n",
       "      <td>http://images.amazon.com/images/P/0002005018.0...</td>\n",
       "      <td>http://images.amazon.com/images/P/0002005018.0...</td>\n",
       "      <td>http://images.amazon.com/images/P/0002005018.0...</td>\n",
       "      <td>11400</td>\n",
       "      <td>0</td>\n",
       "    </tr>\n",
       "    <tr>\n",
       "      <th>3</th>\n",
       "      <td>0002005018</td>\n",
       "      <td>Clara Callan</td>\n",
       "      <td>Richard Bruce Wright</td>\n",
       "      <td>2001</td>\n",
       "      <td>HarperFlamingo Canada</td>\n",
       "      <td>http://images.amazon.com/images/P/0002005018.0...</td>\n",
       "      <td>http://images.amazon.com/images/P/0002005018.0...</td>\n",
       "      <td>http://images.amazon.com/images/P/0002005018.0...</td>\n",
       "      <td>11676</td>\n",
       "      <td>8</td>\n",
       "    </tr>\n",
       "    <tr>\n",
       "      <th>4</th>\n",
       "      <td>0002005018</td>\n",
       "      <td>Clara Callan</td>\n",
       "      <td>Richard Bruce Wright</td>\n",
       "      <td>2001</td>\n",
       "      <td>HarperFlamingo Canada</td>\n",
       "      <td>http://images.amazon.com/images/P/0002005018.0...</td>\n",
       "      <td>http://images.amazon.com/images/P/0002005018.0...</td>\n",
       "      <td>http://images.amazon.com/images/P/0002005018.0...</td>\n",
       "      <td>41385</td>\n",
       "      <td>0</td>\n",
       "    </tr>\n",
       "  </tbody>\n",
       "</table>\n",
       "</div>"
      ],
      "text/plain": [
       "         ISBN           Book-Title           Book-Author Year-Of-Publication  \\\n",
       "0  0195153448  Classical Mythology    Mark P. O. Morford                2002   \n",
       "1  0002005018         Clara Callan  Richard Bruce Wright                2001   \n",
       "2  0002005018         Clara Callan  Richard Bruce Wright                2001   \n",
       "3  0002005018         Clara Callan  Richard Bruce Wright                2001   \n",
       "4  0002005018         Clara Callan  Richard Bruce Wright                2001   \n",
       "\n",
       "                 Publisher                                        Image-URL-S  \\\n",
       "0  Oxford University Press  http://images.amazon.com/images/P/0195153448.0...   \n",
       "1    HarperFlamingo Canada  http://images.amazon.com/images/P/0002005018.0...   \n",
       "2    HarperFlamingo Canada  http://images.amazon.com/images/P/0002005018.0...   \n",
       "3    HarperFlamingo Canada  http://images.amazon.com/images/P/0002005018.0...   \n",
       "4    HarperFlamingo Canada  http://images.amazon.com/images/P/0002005018.0...   \n",
       "\n",
       "                                         Image-URL-M  \\\n",
       "0  http://images.amazon.com/images/P/0195153448.0...   \n",
       "1  http://images.amazon.com/images/P/0002005018.0...   \n",
       "2  http://images.amazon.com/images/P/0002005018.0...   \n",
       "3  http://images.amazon.com/images/P/0002005018.0...   \n",
       "4  http://images.amazon.com/images/P/0002005018.0...   \n",
       "\n",
       "                                         Image-URL-L  User-ID  Book-Rating  \n",
       "0  http://images.amazon.com/images/P/0195153448.0...        2            0  \n",
       "1  http://images.amazon.com/images/P/0002005018.0...        8            5  \n",
       "2  http://images.amazon.com/images/P/0002005018.0...    11400            0  \n",
       "3  http://images.amazon.com/images/P/0002005018.0...    11676            8  \n",
       "4  http://images.amazon.com/images/P/0002005018.0...    41385            0  "
      ]
     },
     "execution_count": 7,
     "metadata": {},
     "output_type": "execute_result"
    }
   ],
   "source": [
    "books_data=books.merge(ratings,on=\"ISBN\")\n",
    "books_data.head()"
   ]
  },
  {
   "cell_type": "code",
   "execution_count": 8,
   "id": "058c6dff",
   "metadata": {
    "execution": {
     "iopub.execute_input": "2022-10-15T14:32:28.829787Z",
     "iopub.status.busy": "2022-10-15T14:32:28.829437Z",
     "iopub.status.idle": "2022-10-15T14:32:30.829827Z",
     "shell.execute_reply": "2022-10-15T14:32:30.828709Z"
    },
    "papermill": {
     "duration": 2.010427,
     "end_time": "2022-10-15T14:32:30.831520",
     "exception": false,
     "start_time": "2022-10-15T14:32:28.821093",
     "status": "completed"
    },
    "tags": []
   },
   "outputs": [
    {
     "data": {
      "text/html": [
       "<div>\n",
       "<style scoped>\n",
       "    .dataframe tbody tr th:only-of-type {\n",
       "        vertical-align: middle;\n",
       "    }\n",
       "\n",
       "    .dataframe tbody tr th {\n",
       "        vertical-align: top;\n",
       "    }\n",
       "\n",
       "    .dataframe thead th {\n",
       "        text-align: right;\n",
       "    }\n",
       "</style>\n",
       "<table border=\"1\" class=\"dataframe\">\n",
       "  <thead>\n",
       "    <tr style=\"text-align: right;\">\n",
       "      <th></th>\n",
       "      <th>Book-Title</th>\n",
       "      <th>Book-Author</th>\n",
       "      <th>Publisher</th>\n",
       "      <th>Image-URL-L</th>\n",
       "      <th>User-ID</th>\n",
       "      <th>Book-Rating</th>\n",
       "    </tr>\n",
       "  </thead>\n",
       "  <tbody>\n",
       "    <tr>\n",
       "      <th>1</th>\n",
       "      <td>Clara Callan</td>\n",
       "      <td>Richard Bruce Wright</td>\n",
       "      <td>HarperFlamingo Canada</td>\n",
       "      <td>http://images.amazon.com/images/P/0002005018.0...</td>\n",
       "      <td>8</td>\n",
       "      <td>5</td>\n",
       "    </tr>\n",
       "    <tr>\n",
       "      <th>3</th>\n",
       "      <td>Clara Callan</td>\n",
       "      <td>Richard Bruce Wright</td>\n",
       "      <td>HarperFlamingo Canada</td>\n",
       "      <td>http://images.amazon.com/images/P/0002005018.0...</td>\n",
       "      <td>11676</td>\n",
       "      <td>8</td>\n",
       "    </tr>\n",
       "    <tr>\n",
       "      <th>5</th>\n",
       "      <td>Clara Callan</td>\n",
       "      <td>Richard Bruce Wright</td>\n",
       "      <td>HarperFlamingo Canada</td>\n",
       "      <td>http://images.amazon.com/images/P/0002005018.0...</td>\n",
       "      <td>67544</td>\n",
       "      <td>8</td>\n",
       "    </tr>\n",
       "    <tr>\n",
       "      <th>8</th>\n",
       "      <td>Clara Callan</td>\n",
       "      <td>Richard Bruce Wright</td>\n",
       "      <td>HarperFlamingo Canada</td>\n",
       "      <td>http://images.amazon.com/images/P/0002005018.0...</td>\n",
       "      <td>116866</td>\n",
       "      <td>9</td>\n",
       "    </tr>\n",
       "    <tr>\n",
       "      <th>9</th>\n",
       "      <td>Clara Callan</td>\n",
       "      <td>Richard Bruce Wright</td>\n",
       "      <td>HarperFlamingo Canada</td>\n",
       "      <td>http://images.amazon.com/images/P/0002005018.0...</td>\n",
       "      <td>123629</td>\n",
       "      <td>9</td>\n",
       "    </tr>\n",
       "  </tbody>\n",
       "</table>\n",
       "</div>"
      ],
      "text/plain": [
       "     Book-Title           Book-Author              Publisher  \\\n",
       "1  Clara Callan  Richard Bruce Wright  HarperFlamingo Canada   \n",
       "3  Clara Callan  Richard Bruce Wright  HarperFlamingo Canada   \n",
       "5  Clara Callan  Richard Bruce Wright  HarperFlamingo Canada   \n",
       "8  Clara Callan  Richard Bruce Wright  HarperFlamingo Canada   \n",
       "9  Clara Callan  Richard Bruce Wright  HarperFlamingo Canada   \n",
       "\n",
       "                                         Image-URL-L  User-ID  Book-Rating  \n",
       "1  http://images.amazon.com/images/P/0002005018.0...        8            5  \n",
       "3  http://images.amazon.com/images/P/0002005018.0...    11676            8  \n",
       "5  http://images.amazon.com/images/P/0002005018.0...    67544            8  \n",
       "8  http://images.amazon.com/images/P/0002005018.0...   116866            9  \n",
       "9  http://images.amazon.com/images/P/0002005018.0...   123629            9  "
      ]
     },
     "execution_count": 8,
     "metadata": {},
     "output_type": "execute_result"
    }
   ],
   "source": [
    "df=books_data.copy()\n",
    "df.dropna(inplace=True)\n",
    "df.reset_index(drop=True,inplace=True)\n",
    "df.drop(columns=[\"ISBN\",\"Year-Of-Publication\",\"Image-URL-S\",\"Image-URL-M\"],axis=1,inplace=True)\n",
    "df.drop(index=df[df[\"Book-Rating\"]==0].index,inplace=True)\n",
    "df[\"Book-Title\"]=df[\"Book-Title\"].apply(lambda x: re.sub(\"[\\W_]+\",\" \",x).strip())\n",
    "df.head()"
   ]
  },
  {
   "cell_type": "markdown",
   "id": "9dc98f6c",
   "metadata": {
    "papermill": {
     "duration": 0.007843,
     "end_time": "2022-10-15T14:32:30.847364",
     "exception": false,
     "start_time": "2022-10-15T14:32:30.839521",
     "status": "completed"
    },
    "tags": []
   },
   "source": [
    "# **POPULARITY BASED RECOMMENDATION SYSTEM**\n",
    "\n",
    "* Popularity based recommendation systems are based on the rating of items by all the users.\n",
    "* Popularity based recommendation systems works with the trend. It basically uses the items which are in trend right now."
   ]
  },
  {
   "cell_type": "code",
   "execution_count": 9,
   "id": "7126f93e",
   "metadata": {
    "execution": {
     "iopub.execute_input": "2022-10-15T14:32:30.864776Z",
     "iopub.status.busy": "2022-10-15T14:32:30.864432Z",
     "iopub.status.idle": "2022-10-15T14:32:30.871602Z",
     "shell.execute_reply": "2022-10-15T14:32:30.871066Z"
    },
    "papermill": {
     "duration": 0.017895,
     "end_time": "2022-10-15T14:32:30.873197",
     "exception": false,
     "start_time": "2022-10-15T14:32:30.855302",
     "status": "completed"
    },
    "tags": []
   },
   "outputs": [],
   "source": [
    "def popular_books(df,n=100):\n",
    "    rating_count=df.groupby(\"Book-Title\").count()[\"Book-Rating\"].reset_index()\n",
    "    rating_count.rename(columns={\"Book-Rating\":\"NumberOfVotes\"},inplace=True)\n",
    "    \n",
    "    rating_average=df.groupby(\"Book-Title\")[\"Book-Rating\"].mean().reset_index()\n",
    "    rating_average.rename(columns={\"Book-Rating\":\"AverageRatings\"},inplace=True)\n",
    "    \n",
    "    popularBooks=rating_count.merge(rating_average,on=\"Book-Title\")\n",
    "    \n",
    "    def weighted_rate(x):\n",
    "        v=x[\"NumberOfVotes\"]\n",
    "        R=x[\"AverageRatings\"]\n",
    "        \n",
    "        return ((v*R) + (m*C)) / (v+m)\n",
    "    \n",
    "    C=popularBooks[\"AverageRatings\"].mean()\n",
    "    m=popularBooks[\"NumberOfVotes\"].quantile(0.90)\n",
    "    \n",
    "    popularBooks=popularBooks[popularBooks[\"NumberOfVotes\"] >=250]\n",
    "    popularBooks[\"Popularity\"]=popularBooks.apply(weighted_rate,axis=1)\n",
    "    popularBooks=popularBooks.sort_values(by=\"Popularity\",ascending=False)\n",
    "    return popularBooks[[\"Book-Title\",\"NumberOfVotes\",\"AverageRatings\",\"Popularity\"]].reset_index(drop=True).head(n)"
   ]
  },
  {
   "cell_type": "code",
   "execution_count": 27,
   "id": "64547a33",
   "metadata": {
    "execution": {
     "iopub.execute_input": "2022-10-15T14:32:30.890866Z",
     "iopub.status.busy": "2022-10-15T14:32:30.890070Z",
     "iopub.status.idle": "2022-10-15T14:32:37.023135Z",
     "shell.execute_reply": "2022-10-15T14:32:37.022267Z"
    },
    "papermill": {
     "duration": 6.145971,
     "end_time": "2022-10-15T14:32:37.027073",
     "exception": false,
     "start_time": "2022-10-15T14:32:30.881102",
     "status": "completed"
    },
    "tags": []
   },
   "outputs": [
    {
     "name": "stdout",
     "output_type": "stream",
     "text": [
      "Harry Potter and the Prisoner of Azkaban Book 3\n",
      "To Kill a Mockingbird\n",
      "Harry Potter and the Sorcerer s Stone Harry Potter Paperback\n",
      "Harry Potter and the Chamber of Secrets Book 2\n",
      "Tuesdays with Morrie An Old Man a Young Man and Life s Greatest Lesson\n",
      "The Secret Life of Bees\n",
      "The Da Vinci Code\n",
      "The Lovely Bones A Novel\n",
      "The Red Tent Bestselling Backlist\n",
      "Where the Heart Is Oprah s Book Club Paperback\n"
     ]
    }
   ],
   "source": [
    "n=10\n",
    "top_ten=pd.DataFrame(popular_books(df,10))\n",
    "fig.suptitle(\"MOST POPULAR 10 BOOKS\",fontsize=40,color=\"deepskyblue\")\n",
    "for i in top_ten[\"Book-Title\"].tolist():\n",
    "    print(i)"
   ]
  },
  {
   "cell_type": "markdown",
   "id": "330deaf0",
   "metadata": {
    "papermill": {
     "duration": 0.01515,
     "end_time": "2022-10-15T14:32:37.055801",
     "exception": false,
     "start_time": "2022-10-15T14:32:37.040651",
     "status": "completed"
    },
    "tags": []
   },
   "source": [
    "# **ITEM-BASED COLLABORATIVE FILTERING**"
   ]
  },
  {
   "cell_type": "code",
   "execution_count": 32,
   "id": "ab3f5978",
   "metadata": {
    "execution": {
     "iopub.execute_input": "2022-10-15T14:32:37.084626Z",
     "iopub.status.busy": "2022-10-15T14:32:37.084316Z",
     "iopub.status.idle": "2022-10-15T14:32:37.099642Z",
     "shell.execute_reply": "2022-10-15T14:32:37.098691Z"
    },
    "papermill": {
     "duration": 0.031548,
     "end_time": "2022-10-15T14:32:37.101740",
     "exception": false,
     "start_time": "2022-10-15T14:32:37.070192",
     "status": "completed"
    },
    "tags": []
   },
   "outputs": [],
   "source": [
    "def item_based(bookTitle):\n",
    "    bookTitle=str(bookTitle)\n",
    "    \n",
    "    if bookTitle in df[\"Book-Title\"].values:\n",
    "        rating_count=pd.DataFrame(df[\"Book-Title\"].value_counts())\n",
    "        rare_books=rating_count[rating_count[\"Book-Title\"]<=200].index\n",
    "        common_books=df[~df[\"Book-Title\"].isin(rare_books)]\n",
    "        \n",
    "        if bookTitle in rare_books:\n",
    "            most_common=pd.Series(common_books[\"Book-Title\"].unique()).sample(3).values\n",
    "            print(\"No Recommendations for this Book ☹️ \\n \")\n",
    "            print(\"YOU MAY TRY: \\n \")\n",
    "            print(\"{}\".format(most_common[0]), \"\\n\")\n",
    "            print(\"{}\".format(most_common[1]), \"\\n\")\n",
    "            print(\"{}\".format(most_common[2]), \"\\n\")\n",
    "        else:\n",
    "            common_books_pivot=common_books.pivot_table(index=[\"User-ID\"],columns=[\"Book-Title\"],values=\"Book-Rating\")\n",
    "            title=common_books_pivot[bookTitle]\n",
    "            recommendation_df=pd.DataFrame(common_books_pivot.corrwith(title).sort_values(ascending=False)).reset_index(drop=False)\n",
    "            \n",
    "            if bookTitle in [title for title in recommendation_df[\"Book-Title\"]]:\n",
    "                recommendation_df=recommendation_df.drop(recommendation_df[recommendation_df[\"Book-Title\"]==bookTitle].index[0])\n",
    "                \n",
    "            less_rating=[]\n",
    "            for i in recommendation_df[\"Book-Title\"]:\n",
    "                if df[df[\"Book-Title\"]==i][\"Book-Rating\"].mean() < 5:\n",
    "                    less_rating.append(i)\n",
    "            if recommendation_df.shape[0] - len(less_rating) > 5:\n",
    "                recommendation_df=recommendation_df[~recommendation_df[\"Book-Title\"].isin(less_rating)]\n",
    "                \n",
    "            recommendation_df=recommendation_df[0:5]\n",
    "            recommendation_df.columns=[\"Book-Title\",\"Correlation\"]\n",
    "            \n",
    "            for i in recommendation_df[\"Book-Title\"].tolist():\n",
    "                print(i)\n",
    "    else:\n",
    "        print(\"❌ COULD NOT FIND ❌\")"
   ]
  },
  {
   "cell_type": "code",
   "execution_count": 33,
   "id": "0c40da0c",
   "metadata": {
    "execution": {
     "iopub.execute_input": "2022-10-15T14:32:37.127850Z",
     "iopub.status.busy": "2022-10-15T14:32:37.127316Z",
     "iopub.status.idle": "2022-10-15T14:32:40.954580Z",
     "shell.execute_reply": "2022-10-15T14:32:40.953170Z"
    },
    "papermill": {
     "duration": 3.845072,
     "end_time": "2022-10-15T14:32:40.958793",
     "exception": false,
     "start_time": "2022-10-15T14:32:37.113721",
     "status": "completed"
    },
    "tags": []
   },
   "outputs": [
    {
     "name": "stdout",
     "output_type": "stream",
     "text": [
      "The Chamber\n",
      "She s Come Undone Oprah s Book Club\n",
      "The Poisonwood Bible A Novel\n",
      "Timeline\n",
      "The Testament\n"
     ]
    }
   ],
   "source": [
    "item_based(\"Me Talk Pretty One Day\")"
   ]
  },
  {
   "cell_type": "code",
   "execution_count": 34,
   "id": "d224299c",
   "metadata": {
    "execution": {
     "iopub.execute_input": "2022-10-15T14:32:40.998950Z",
     "iopub.status.busy": "2022-10-15T14:32:40.998621Z",
     "iopub.status.idle": "2022-10-15T14:32:41.225035Z",
     "shell.execute_reply": "2022-10-15T14:32:41.223385Z"
    },
    "papermill": {
     "duration": 0.249569,
     "end_time": "2022-10-15T14:32:41.227514",
     "exception": false,
     "start_time": "2022-10-15T14:32:40.977945",
     "status": "completed"
    },
    "tags": []
   },
   "outputs": [
    {
     "name": "stdout",
     "output_type": "stream",
     "text": [
      "No Recommendations for this Book ☹️ \n",
      " \n",
      "YOU MAY TRY: \n",
      " \n",
      "Snow Falling on Cedars \n",
      "\n",
      "A Time to Kill \n",
      "\n",
      "Good in Bed \n",
      "\n"
     ]
    }
   ],
   "source": [
    "item_based(\"From One to One Hundred\")"
   ]
  },
  {
   "cell_type": "code",
   "execution_count": 35,
   "id": "047c302a",
   "metadata": {
    "execution": {
     "iopub.execute_input": "2022-10-15T14:32:41.266548Z",
     "iopub.status.busy": "2022-10-15T14:32:41.266198Z",
     "iopub.status.idle": "2022-10-15T14:32:45.432493Z",
     "shell.execute_reply": "2022-10-15T14:32:45.431562Z"
    },
    "papermill": {
     "duration": 4.18902,
     "end_time": "2022-10-15T14:32:45.435198",
     "exception": false,
     "start_time": "2022-10-15T14:32:41.246178",
     "status": "completed"
    },
    "tags": []
   },
   "outputs": [
    {
     "name": "stdout",
     "output_type": "stream",
     "text": [
      "Where the Heart Is Oprah s Book Club Paperback\n",
      "Fahrenheit 451\n",
      "1st to Die A Novel\n",
      "Harry Potter and the Order of the Phoenix Book 5\n",
      "Summer Sisters\n"
     ]
    }
   ],
   "source": [
    "item_based(\"The Da Vinci Code\")"
   ]
  },
  {
   "cell_type": "code",
   "execution_count": 36,
   "id": "d5c3b9f9",
   "metadata": {
    "execution": {
     "iopub.execute_input": "2022-10-15T14:32:45.487909Z",
     "iopub.status.busy": "2022-10-15T14:32:45.487376Z",
     "iopub.status.idle": "2022-10-15T14:32:45.498984Z",
     "shell.execute_reply": "2022-10-15T14:32:45.497835Z"
    },
    "papermill": {
     "duration": 0.040558,
     "end_time": "2022-10-15T14:32:45.501558",
     "exception": false,
     "start_time": "2022-10-15T14:32:45.461000",
     "status": "completed"
    },
    "tags": []
   },
   "outputs": [
    {
     "name": "stdout",
     "output_type": "stream",
     "text": [
      "❌ COULD NOT FIND ❌\n"
     ]
    }
   ],
   "source": [
    "item_based(\"Barbie\")"
   ]
  },
  {
   "cell_type": "markdown",
   "id": "32cb2e10",
   "metadata": {
    "papermill": {
     "duration": 0.026821,
     "end_time": "2022-10-15T14:32:45.555154",
     "exception": false,
     "start_time": "2022-10-15T14:32:45.528333",
     "status": "completed"
    },
    "tags": []
   },
   "source": [
    "# **USER-BASED COLLABORATIVE FILTERING**"
   ]
  },
  {
   "cell_type": "code",
   "execution_count": 37,
   "id": "01040bf0",
   "metadata": {
    "execution": {
     "iopub.execute_input": "2022-10-15T14:32:45.607899Z",
     "iopub.status.busy": "2022-10-15T14:32:45.607542Z",
     "iopub.status.idle": "2022-10-15T14:32:45.930383Z",
     "shell.execute_reply": "2022-10-15T14:32:45.929193Z"
    },
    "papermill": {
     "duration": 0.352125,
     "end_time": "2022-10-15T14:32:45.932803",
     "exception": false,
     "start_time": "2022-10-15T14:32:45.580678",
     "status": "completed"
    },
    "tags": []
   },
   "outputs": [],
   "source": [
    "new_df=df[df['User-ID'].map(df['User-ID'].value_counts()) > 200]  # Drop users who vote less than 200 times.\n",
    "users_pivot=new_df.pivot_table(index=[\"User-ID\"],columns=[\"Book-Title\"],values=\"Book-Rating\")\n",
    "users_pivot.fillna(0,inplace=True)"
   ]
  },
  {
   "cell_type": "code",
   "execution_count": 38,
   "id": "e9840455",
   "metadata": {
    "execution": {
     "iopub.execute_input": "2022-10-15T14:32:45.985148Z",
     "iopub.status.busy": "2022-10-15T14:32:45.984826Z",
     "iopub.status.idle": "2022-10-15T14:32:45.989603Z",
     "shell.execute_reply": "2022-10-15T14:32:45.988801Z"
    },
    "papermill": {
     "duration": 0.033288,
     "end_time": "2022-10-15T14:32:45.991354",
     "exception": false,
     "start_time": "2022-10-15T14:32:45.958066",
     "status": "completed"
    },
    "tags": []
   },
   "outputs": [],
   "source": [
    "def users_choice(id):\n",
    "    \n",
    "    users_fav=new_df[new_df[\"User-ID\"]==id].sort_values([\"Book-Rating\"],ascending=False)[0:5]\n",
    "    return users_fav"
   ]
  },
  {
   "cell_type": "code",
   "execution_count": 39,
   "id": "02f5a1af",
   "metadata": {
    "execution": {
     "iopub.execute_input": "2022-10-15T14:32:46.043133Z",
     "iopub.status.busy": "2022-10-15T14:32:46.042818Z",
     "iopub.status.idle": "2022-10-15T14:32:46.049828Z",
     "shell.execute_reply": "2022-10-15T14:32:46.048351Z"
    },
    "papermill": {
     "duration": 0.036065,
     "end_time": "2022-10-15T14:32:46.052350",
     "exception": false,
     "start_time": "2022-10-15T14:32:46.016285",
     "status": "completed"
    },
    "tags": []
   },
   "outputs": [],
   "source": [
    "def user_based(new_df,id):\n",
    "    if id not in new_df[\"User-ID\"].values:\n",
    "        print(\"❌ User NOT FOUND ❌\")\n",
    "        \n",
    "        \n",
    "    else:\n",
    "        index=np.where(users_pivot.index==id)[0][0]\n",
    "        similarity=cosine_similarity(users_pivot)\n",
    "        similar_users=list(enumerate(similarity[index]))\n",
    "        similar_users = sorted(similar_users,key = lambda x:x[1],reverse=True)[0:5]\n",
    "    \n",
    "        user_rec=[]\n",
    "    \n",
    "        for i in similar_users:\n",
    "                data=df[df[\"User-ID\"]==users_pivot.index[i[0]]]\n",
    "                user_rec.extend(list(data.drop_duplicates(\"User-ID\")[\"User-ID\"].values))\n",
    "        \n",
    "    return user_rec"
   ]
  },
  {
   "cell_type": "code",
   "execution_count": 40,
   "id": "18134d8c",
   "metadata": {
    "execution": {
     "iopub.execute_input": "2022-10-15T14:32:46.104385Z",
     "iopub.status.busy": "2022-10-15T14:32:46.104066Z",
     "iopub.status.idle": "2022-10-15T14:32:46.111038Z",
     "shell.execute_reply": "2022-10-15T14:32:46.109320Z"
    },
    "papermill": {
     "duration": 0.036061,
     "end_time": "2022-10-15T14:32:46.113607",
     "exception": false,
     "start_time": "2022-10-15T14:32:46.077546",
     "status": "completed"
    },
    "tags": []
   },
   "outputs": [],
   "source": [
    "def common(new_df,user,user_id):\n",
    "    x=new_df[new_df[\"User-ID\"]==user_id]\n",
    "    recommend_books=[]\n",
    "    user=list(user)\n",
    "    for i in user:\n",
    "        y=new_df[(new_df[\"User-ID\"]==i)]\n",
    "        books=y.loc[~y[\"Book-Title\"].isin(x[\"Book-Title\"]),:]\n",
    "        books=books.sort_values([\"Book-Rating\"],ascending=False)[0:5]\n",
    "        recommend_books.extend(books[\"Book-Title\"].values)\n",
    "        \n",
    "    return recommend_books[0:5]"
   ]
  },
  {
   "cell_type": "code",
   "execution_count": 46,
   "id": "dc172c48",
   "metadata": {
    "execution": {
     "iopub.execute_input": "2022-10-15T14:32:46.166410Z",
     "iopub.status.busy": "2022-10-15T14:32:46.166122Z",
     "iopub.status.idle": "2022-10-15T14:32:52.197206Z",
     "shell.execute_reply": "2022-10-15T14:32:52.196266Z"
    },
    "papermill": {
     "duration": 6.063224,
     "end_time": "2022-10-15T14:32:52.202581",
     "exception": false,
     "start_time": "2022-10-15T14:32:46.139357",
     "status": "completed"
    },
    "tags": []
   },
   "outputs": [
    {
     "name": "stdout",
     "output_type": "stream",
     "text": [
      "🟦 USER: 189835 \n",
      "        Book-Title    Book-Author                 Publisher  \\\n",
      "544555  Ozma of Oz  Frank L. Baum  Troll Communications Llc   \n",
      "872561  Ozma of Oz  L. Frank Baum                   I Books   \n",
      "\n",
      "                                              Image-URL-L  User-ID  \\\n",
      "544555  http://images.amazon.com/images/P/0816707960.0...   189835   \n",
      "872561  http://images.amazon.com/images/P/0743452674.0...   189835   \n",
      "\n",
      "        Book-Rating  \n",
      "544555           10  \n",
      "872561            5  \n",
      "                                     Book-Title Book-Author  \\\n",
      "906559  A Life for God The Mother Teresa Reader      Teresa   \n",
      "\n",
      "                      Publisher  \\\n",
      "906559  St Anthony Messenger Pr   \n",
      "\n",
      "                                              Image-URL-L  User-ID  \\\n",
      "906559  http://images.amazon.com/images/P/0892839007.0...   189835   \n",
      "\n",
      "        Book-Rating  \n",
      "906559           10  \n",
      "                                           Book-Title    Book-Author  \\\n",
      "718561  Noli Me Tangere Shaps Library of Translations  Jose P. Rizal   \n",
      "\n",
      "                         Publisher  \\\n",
      "718561  University of Hawaii Press   \n",
      "\n",
      "                                              Image-URL-L  User-ID  \\\n",
      "718561  http://images.amazon.com/images/P/0824819179.0...   189835   \n",
      "\n",
      "        Book-Rating  \n",
      "718561           10  \n",
      "                                          Book-Title            Book-Author  \\\n",
      "535854  The Pool in the Desert Penguin Short Fiction  Sara Jeannette Duncan   \n",
      "\n",
      "          Publisher                                        Image-URL-L  \\\n",
      "535854  Penguin USA  http://images.amazon.com/images/P/0140074570.0...   \n",
      "\n",
      "        User-ID  Book-Rating  \n",
      "535854   189835           10  \n",
      "                              Book-Title     Book-Author      Publisher  \\\n",
      "606752  Aphrodite A Memoir of the Senses  Isabel Allende  HarperCollins   \n",
      "\n",
      "                                              Image-URL-L  User-ID  \\\n",
      "606752  http://images.amazon.com/images/P/0060175907.0...   189835   \n",
      "\n",
      "        Book-Rating  \n",
      "606752           10  \n"
     ]
    },
    {
     "ename": "ValueError",
     "evalue": "Can only compare identically-labeled Series objects",
     "output_type": "error",
     "traceback": [
      "\u001b[1;31m---------------------------------------------------------------------------\u001b[0m",
      "\u001b[1;31mValueError\u001b[0m                                Traceback (most recent call last)",
      "\u001b[1;32md:\\Mata kuliah\\kampus merdeka\\ujian akhir\\data science\\book-recommender.ipynb Cell 26\u001b[0m in \u001b[0;36m<cell line: 14>\u001b[1;34m()\u001b[0m\n\u001b[0;32m     <a href='vscode-notebook-cell:/d%3A/Mata%20kuliah/kampus%20merdeka/ujian%20akhir/data%20science/book-recommender.ipynb#X34sZmlsZQ%3D%3D?line=11'>12</a>\u001b[0m books_for_userDF\u001b[39m=\u001b[39mpd\u001b[39m.\u001b[39mDataFrame(books_for_user,columns\u001b[39m=\u001b[39m[\u001b[39m\"\u001b[39m\u001b[39mBook-Title\u001b[39m\u001b[39m\"\u001b[39m])\n\u001b[0;32m     <a href='vscode-notebook-cell:/d%3A/Mata%20kuliah/kampus%20merdeka/ujian%20akhir/data%20science/book-recommender.ipynb#X34sZmlsZQ%3D%3D?line=13'>14</a>\u001b[0m \u001b[39mfor\u001b[39;00m i \u001b[39min\u001b[39;00m \u001b[39mrange\u001b[39m(\u001b[39m5\u001b[39m):\n\u001b[1;32m---> <a href='vscode-notebook-cell:/d%3A/Mata%20kuliah/kampus%20merdeka/ujian%20akhir/data%20science/book-recommender.ipynb#X34sZmlsZQ%3D%3D?line=14'>15</a>\u001b[0m     \u001b[39mprint\u001b[39m(new_df\u001b[39m.\u001b[39mloc[new_df[\u001b[39m\"\u001b[39;49m\u001b[39mBook-Title\u001b[39;49m\u001b[39m\"\u001b[39;49m]\u001b[39m==\u001b[39;49mbooks_for_userDF[\u001b[39m\"\u001b[39;49m\u001b[39mBook-Title\u001b[39;49m\u001b[39m\"\u001b[39;49m]])\n",
      "File \u001b[1;32mc:\\Users\\Lenovo\\AppData\\Local\\Programs\\Python\\Python310\\lib\\site-packages\\pandas\\core\\ops\\common.py:70\u001b[0m, in \u001b[0;36m_unpack_zerodim_and_defer.<locals>.new_method\u001b[1;34m(self, other)\u001b[0m\n\u001b[0;32m     66\u001b[0m             \u001b[39mreturn\u001b[39;00m \u001b[39mNotImplemented\u001b[39m\n\u001b[0;32m     68\u001b[0m other \u001b[39m=\u001b[39m item_from_zerodim(other)\n\u001b[1;32m---> 70\u001b[0m \u001b[39mreturn\u001b[39;00m method(\u001b[39mself\u001b[39;49m, other)\n",
      "File \u001b[1;32mc:\\Users\\Lenovo\\AppData\\Local\\Programs\\Python\\Python310\\lib\\site-packages\\pandas\\core\\arraylike.py:40\u001b[0m, in \u001b[0;36mOpsMixin.__eq__\u001b[1;34m(self, other)\u001b[0m\n\u001b[0;32m     38\u001b[0m \u001b[39m@unpack_zerodim_and_defer\u001b[39m(\u001b[39m\"\u001b[39m\u001b[39m__eq__\u001b[39m\u001b[39m\"\u001b[39m)\n\u001b[0;32m     39\u001b[0m \u001b[39mdef\u001b[39;00m \u001b[39m__eq__\u001b[39m(\u001b[39mself\u001b[39m, other):\n\u001b[1;32m---> 40\u001b[0m     \u001b[39mreturn\u001b[39;00m \u001b[39mself\u001b[39;49m\u001b[39m.\u001b[39;49m_cmp_method(other, operator\u001b[39m.\u001b[39;49meq)\n",
      "File \u001b[1;32mc:\\Users\\Lenovo\\AppData\\Local\\Programs\\Python\\Python310\\lib\\site-packages\\pandas\\core\\series.py:5617\u001b[0m, in \u001b[0;36mSeries._cmp_method\u001b[1;34m(self, other, op)\u001b[0m\n\u001b[0;32m   5614\u001b[0m res_name \u001b[39m=\u001b[39m ops\u001b[39m.\u001b[39mget_op_result_name(\u001b[39mself\u001b[39m, other)\n\u001b[0;32m   5616\u001b[0m \u001b[39mif\u001b[39;00m \u001b[39misinstance\u001b[39m(other, Series) \u001b[39mand\u001b[39;00m \u001b[39mnot\u001b[39;00m \u001b[39mself\u001b[39m\u001b[39m.\u001b[39m_indexed_same(other):\n\u001b[1;32m-> 5617\u001b[0m     \u001b[39mraise\u001b[39;00m \u001b[39mValueError\u001b[39;00m(\u001b[39m\"\u001b[39m\u001b[39mCan only compare identically-labeled Series objects\u001b[39m\u001b[39m\"\u001b[39m)\n\u001b[0;32m   5619\u001b[0m lvalues \u001b[39m=\u001b[39m \u001b[39mself\u001b[39m\u001b[39m.\u001b[39m_values\n\u001b[0;32m   5620\u001b[0m rvalues \u001b[39m=\u001b[39m extract_array(other, extract_numpy\u001b[39m=\u001b[39m\u001b[39mTrue\u001b[39;00m, extract_range\u001b[39m=\u001b[39m\u001b[39mTrue\u001b[39;00m)\n",
      "\u001b[1;31mValueError\u001b[0m: Can only compare identically-labeled Series objects"
     ]
    }
   ],
   "source": [
    "user_id=random.choice(new_df[\"User-ID\"].values)\n",
    "user_choice_df=pd.DataFrame(users_choice(user_id))\n",
    "user_favorite=users_choice(user_id)\n",
    "n=len(user_choice_df[\"Book-Title\"].values)\n",
    "print(\"🟦 USER: {} \".format(user_id))\n",
    "    \n",
    "for i in range(n):\n",
    "        print(new_df.loc[new_df[\"Book-Title\"]==user_choice_df[\"Book-Title\"].tolist()[i]])\n",
    "\n",
    "user_based_rec=user_based(new_df,user_id)\n",
    "books_for_user=common(new_df,user_based_rec,user_id)\n",
    "books_for_userDF=pd.DataFrame(books_for_user,columns=[\"Book-Title\"])\n",
    "\n",
    "for i in range(5):\n",
    "    print(new_df.loc[new_df[\"Book-Title\"]==books_for_userDF[\"Book-Title\"]])"
   ]
  },
  {
   "cell_type": "markdown",
   "id": "fb8d9482",
   "metadata": {
    "papermill": {
     "duration": 0.039259,
     "end_time": "2022-10-15T14:32:52.282022",
     "exception": false,
     "start_time": "2022-10-15T14:32:52.242763",
     "status": "completed"
    },
    "tags": []
   },
   "source": [
    "# **CONTENT-BASED COLLABORATIVE FILTERING** "
   ]
  },
  {
   "cell_type": "code",
   "execution_count": 41,
   "id": "ddbc457b",
   "metadata": {
    "execution": {
     "iopub.execute_input": "2022-10-15T14:32:52.362356Z",
     "iopub.status.busy": "2022-10-15T14:32:52.362064Z",
     "iopub.status.idle": "2022-10-15T14:32:52.378254Z",
     "shell.execute_reply": "2022-10-15T14:32:52.377339Z"
    },
    "papermill": {
     "duration": 0.058395,
     "end_time": "2022-10-15T14:32:52.379950",
     "exception": false,
     "start_time": "2022-10-15T14:32:52.321555",
     "status": "completed"
    },
    "tags": []
   },
   "outputs": [],
   "source": [
    "def content_based(bookTitle):\n",
    "    bookTitle=str(bookTitle)\n",
    "    \n",
    "    if bookTitle in df[\"Book-Title\"].values:\n",
    "        rating_count=pd.DataFrame(df[\"Book-Title\"].value_counts())\n",
    "        rare_books=rating_count[rating_count[\"Book-Title\"]<=200].index\n",
    "        common_books=df[~df[\"Book-Title\"].isin(rare_books)]\n",
    "        \n",
    "        if bookTitle in rare_books:\n",
    "            most_common=pd.Series(common_books[\"Book-Title\"].unique()).sample(3).values\n",
    "            print(\"No Recommendations for this Book ☹️ \\n \")\n",
    "            print(\"YOU MAY TRY: \\n \")\n",
    "            print(\"{}\".format(most_common[0]), \"\\n\")\n",
    "            print(\"{}\".format(most_common[1]), \"\\n\")\n",
    "            print(\"{}\".format(most_common[2]), \"\\n\")\n",
    "        else:\n",
    "            common_books=common_books.drop_duplicates(subset=[\"Book-Title\"])\n",
    "            common_books.reset_index(inplace=True)\n",
    "            common_books[\"index\"]=[i for i in range(common_books.shape[0])]\n",
    "            targets=[\"Book-Title\",\"Book-Author\",\"Publisher\"]\n",
    "            common_books[\"all_features\"] = [\" \".join(common_books[targets].iloc[i,].values) for i in range(common_books[targets].shape[0])]\n",
    "            vectorizer=CountVectorizer()\n",
    "            common_booksVector=vectorizer.fit_transform(common_books[\"all_features\"])\n",
    "            similarity=cosine_similarity(common_booksVector)\n",
    "            index=common_books[common_books[\"Book-Title\"]==bookTitle][\"index\"].values[0]\n",
    "            similar_books=list(enumerate(similarity[index]))\n",
    "            similar_booksSorted=sorted(similar_books,key=lambda x:x[1],reverse=True)[1:6]\n",
    "            books=[]\n",
    "            for i in range(len(similar_booksSorted)):\n",
    "                books.append(common_books[common_books[\"index\"]==similar_booksSorted[i][0]][\"Book-Title\"].item())\n",
    "                \n",
    "            for i in books:\n",
    "                print(i)\n",
    "\n",
    "    else:\n",
    "        print(\"❌ COULD NOT FIND ❌\")               "
   ]
  },
  {
   "cell_type": "code",
   "execution_count": 42,
   "id": "2ace4c5f",
   "metadata": {
    "execution": {
     "iopub.execute_input": "2022-10-15T14:32:52.462370Z",
     "iopub.status.busy": "2022-10-15T14:32:52.461403Z",
     "iopub.status.idle": "2022-10-15T14:32:55.255914Z",
     "shell.execute_reply": "2022-10-15T14:32:55.253963Z"
    },
    "papermill": {
     "duration": 2.839075,
     "end_time": "2022-10-15T14:32:55.259072",
     "exception": false,
     "start_time": "2022-10-15T14:32:52.419997",
     "status": "completed"
    },
    "tags": []
   },
   "outputs": [
    {
     "name": "stdout",
     "output_type": "stream",
     "text": [
      "The Catcher in the Rye\n",
      "The Brethren\n",
      "The Firm\n",
      "The Chamber\n",
      "The Partner\n"
     ]
    }
   ],
   "source": [
    "content_based(\"The Da Vinci Code\")"
   ]
  },
  {
   "cell_type": "code",
   "execution_count": 43,
   "id": "688df8ab",
   "metadata": {
    "execution": {
     "iopub.execute_input": "2022-10-15T14:32:55.356123Z",
     "iopub.status.busy": "2022-10-15T14:32:55.355780Z",
     "iopub.status.idle": "2022-10-15T14:32:58.026481Z",
     "shell.execute_reply": "2022-10-15T14:32:58.025151Z"
    },
    "papermill": {
     "duration": 2.724188,
     "end_time": "2022-10-15T14:32:58.030500",
     "exception": false,
     "start_time": "2022-10-15T14:32:55.306312",
     "status": "completed"
    },
    "tags": []
   },
   "outputs": [
    {
     "name": "stdout",
     "output_type": "stream",
     "text": [
      "The Five People You Meet in Heaven\n",
      "The Brethren\n",
      "Life of Pi\n",
      "The Firm\n",
      "The Chamber\n"
     ]
    }
   ],
   "source": [
    "content_based(\"Tuesdays with Morrie An Old Man a Young Man and Life s Greatest Lesson\")"
   ]
  },
  {
   "cell_type": "code",
   "execution_count": 44,
   "id": "82741fb6",
   "metadata": {
    "execution": {
     "iopub.execute_input": "2022-10-15T14:32:58.137527Z",
     "iopub.status.busy": "2022-10-15T14:32:58.137227Z",
     "iopub.status.idle": "2022-10-15T14:32:58.358790Z",
     "shell.execute_reply": "2022-10-15T14:32:58.356370Z"
    },
    "papermill": {
     "duration": 0.277972,
     "end_time": "2022-10-15T14:32:58.361556",
     "exception": false,
     "start_time": "2022-10-15T14:32:58.083584",
     "status": "completed"
    },
    "tags": []
   },
   "outputs": [
    {
     "name": "stdout",
     "output_type": "stream",
     "text": [
      "No Recommendations for this Book ☹️ \n",
      " \n",
      "YOU MAY TRY: \n",
      " \n",
      "Harry Potter and the Prisoner of Azkaban Book 3 \n",
      "\n",
      "Where the Heart Is Oprah s Book Club Paperback \n",
      "\n",
      "Tuesdays with Morrie An Old Man a Young Man and Life s Greatest Lesson \n",
      "\n"
     ]
    }
   ],
   "source": [
    "content_based(\"A Soldier of the Great War\")"
   ]
  },
  {
   "cell_type": "code",
   "execution_count": 45,
   "id": "50d4a501",
   "metadata": {
    "execution": {
     "iopub.execute_input": "2022-10-15T14:32:58.473475Z",
     "iopub.status.busy": "2022-10-15T14:32:58.471772Z",
     "iopub.status.idle": "2022-10-15T14:33:01.278063Z",
     "shell.execute_reply": "2022-10-15T14:33:01.277272Z"
    },
    "papermill": {
     "duration": 2.864625,
     "end_time": "2022-10-15T14:33:01.283180",
     "exception": false,
     "start_time": "2022-10-15T14:32:58.418555",
     "status": "completed"
    },
    "tags": []
   },
   "outputs": [
    {
     "name": "stdout",
     "output_type": "stream",
     "text": [
      "The Secret Life of Bees\n",
      "Snow Falling on Cedars\n",
      "The Fellowship of the Ring The Lord of the Rings Part 1\n",
      "Harry Potter and the Chamber of Secrets Book 2\n",
      "Harry Potter and the Prisoner of Azkaban Book 3\n"
     ]
    }
   ],
   "source": [
    "content_based(\"Life of Pi\")"
   ]
  }
 ],
 "metadata": {
  "kernelspec": {
   "display_name": "Python 3.10.2 64-bit",
   "language": "python",
   "name": "python3"
  },
  "language_info": {
   "codemirror_mode": {
    "name": "ipython",
    "version": 3
   },
   "file_extension": ".py",
   "mimetype": "text/x-python",
   "name": "python",
   "nbconvert_exporter": "python",
   "pygments_lexer": "ipython3",
   "version": "3.10.2"
  },
  "papermill": {
   "default_parameters": {},
   "duration": 48.001874,
   "end_time": "2022-10-15T14:33:02.269183",
   "environment_variables": {},
   "exception": null,
   "input_path": "__notebook__.ipynb",
   "output_path": "__notebook__.ipynb",
   "parameters": {},
   "start_time": "2022-10-15T14:32:14.267309",
   "version": "2.3.4"
  },
  "vscode": {
   "interpreter": {
    "hash": "8c3d4d9970fc5c09c50d9318a9c7fbf4d0159e4b28833276f5678ee22bded273"
   }
  }
 },
 "nbformat": 4,
 "nbformat_minor": 5
}
